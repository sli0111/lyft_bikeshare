{
 "cells": [
  {
   "cell_type": "markdown",
   "metadata": {},
   "source": [
    "## Project 1: Bikeshare at Lyft\n",
    "*June 7, 2020*\n",
    "\n",
    "*Simon LI*"
   ]
  },
  {
   "cell_type": "markdown",
   "metadata": {},
   "source": [
    "In this report, we will explore the bikeshare datasets to understand how we can increase bikeshare memberships at Lyft.  First, we will perform some data exploration to define a \"commuter trip\" and indentify the 5 most popular trips on our bikes.  Then, we will look into where we are lacking membership and provide recommendations for new membership offers."
   ]
  },
  {
   "cell_type": "markdown",
   "metadata": {},
   "source": [
    "### 0. Import the necessary libraries: Pandas, matplotlib, and Seaborn\n",
    "\n",
    "The following imports the necessary libraries for processing dataframes from big queries using Pandas and creating visualizations with matplotlib and Seaborn."
   ]
  },
  {
   "cell_type": "code",
   "execution_count": 89,
   "metadata": {},
   "outputs": [],
   "source": [
    "import pandas as pd\n",
    "import matplotlib.pyplot as plt\n",
    "import seaborn as sns"
   ]
  },
  {
   "cell_type": "markdown",
   "metadata": {},
   "source": [
    "### 1. Intial Data Exploration\n",
    "\n",
    "This report will use two datasets:\n",
    "* bigquery-public-data.san_francisco.bikeshare_trips\n",
    "* bigquery-public-data.san_francisco.bikeshare_stations\n",
    "\n",
    "To start this data exploration, we will create a preview of both datasets.  The following two queries picks out a single trip id or station id and print the results in a dataframe. "
   ]
  },
  {
   "cell_type": "code",
   "execution_count": 90,
   "metadata": {},
   "outputs": [],
   "source": [
    "%%bigquery df_trip_data_set\n",
    "\n",
    "SELECT *\n",
    "FROM `bigquery-public-data.san_francisco.bikeshare_trips`\n",
    "WHERE trip_id = 944732;"
   ]
  },
  {
   "cell_type": "code",
   "execution_count": 91,
   "metadata": {},
   "outputs": [],
   "source": [
    "%%bigquery df_station_data_set\n",
    "\n",
    "SELECT *\n",
    "FROM `bigquery-public-data.san_francisco.bikeshare_stations`\n",
    "WHERE station_id = 9;"
   ]
  },
  {
   "cell_type": "code",
   "execution_count": 92,
   "metadata": {},
   "outputs": [
    {
     "data": {
      "text/html": [
       "<div>\n",
       "<style scoped>\n",
       "    .dataframe tbody tr th:only-of-type {\n",
       "        vertical-align: middle;\n",
       "    }\n",
       "\n",
       "    .dataframe tbody tr th {\n",
       "        vertical-align: top;\n",
       "    }\n",
       "\n",
       "    .dataframe thead th {\n",
       "        text-align: right;\n",
       "    }\n",
       "</style>\n",
       "<table border=\"1\" class=\"dataframe\">\n",
       "  <thead>\n",
       "    <tr style=\"text-align: right;\">\n",
       "      <th></th>\n",
       "      <th>trip_id</th>\n",
       "      <th>duration_sec</th>\n",
       "      <th>start_date</th>\n",
       "      <th>start_station_name</th>\n",
       "      <th>start_station_id</th>\n",
       "      <th>end_date</th>\n",
       "      <th>end_station_name</th>\n",
       "      <th>end_station_id</th>\n",
       "      <th>bike_number</th>\n",
       "      <th>zip_code</th>\n",
       "      <th>subscriber_type</th>\n",
       "    </tr>\n",
       "  </thead>\n",
       "  <tbody>\n",
       "    <tr>\n",
       "      <th>0</th>\n",
       "      <td>944732</td>\n",
       "      <td>2618</td>\n",
       "      <td>2015-09-24 17:22:00+00:00</td>\n",
       "      <td>Mezes</td>\n",
       "      <td>83</td>\n",
       "      <td>2015-09-24 18:06:00+00:00</td>\n",
       "      <td>Mezes</td>\n",
       "      <td>83</td>\n",
       "      <td>653</td>\n",
       "      <td>94063</td>\n",
       "      <td>Customer</td>\n",
       "    </tr>\n",
       "  </tbody>\n",
       "</table>\n",
       "</div>"
      ],
      "text/plain": [
       "   trip_id  duration_sec                start_date start_station_name  \\\n",
       "0   944732          2618 2015-09-24 17:22:00+00:00              Mezes   \n",
       "\n",
       "   start_station_id                  end_date end_station_name  \\\n",
       "0                83 2015-09-24 18:06:00+00:00            Mezes   \n",
       "\n",
       "   end_station_id  bike_number zip_code subscriber_type  \n",
       "0              83          653    94063        Customer  "
      ]
     },
     "execution_count": 92,
     "metadata": {},
     "output_type": "execute_result"
    }
   ],
   "source": [
    "# Shows the bikeshare_trips dataset\n",
    "df_trip_data_set"
   ]
  },
  {
   "cell_type": "code",
   "execution_count": 93,
   "metadata": {},
   "outputs": [
    {
     "data": {
      "text/html": [
       "<div>\n",
       "<style scoped>\n",
       "    .dataframe tbody tr th:only-of-type {\n",
       "        vertical-align: middle;\n",
       "    }\n",
       "\n",
       "    .dataframe tbody tr th {\n",
       "        vertical-align: top;\n",
       "    }\n",
       "\n",
       "    .dataframe thead th {\n",
       "        text-align: right;\n",
       "    }\n",
       "</style>\n",
       "<table border=\"1\" class=\"dataframe\">\n",
       "  <thead>\n",
       "    <tr style=\"text-align: right;\">\n",
       "      <th></th>\n",
       "      <th>station_id</th>\n",
       "      <th>name</th>\n",
       "      <th>latitude</th>\n",
       "      <th>longitude</th>\n",
       "      <th>dockcount</th>\n",
       "      <th>landmark</th>\n",
       "      <th>installation_date</th>\n",
       "    </tr>\n",
       "  </thead>\n",
       "  <tbody>\n",
       "    <tr>\n",
       "      <th>0</th>\n",
       "      <td>9</td>\n",
       "      <td>Japantown</td>\n",
       "      <td>37.348742</td>\n",
       "      <td>-121.894715</td>\n",
       "      <td>15</td>\n",
       "      <td>San Jose</td>\n",
       "      <td>2013-08-05</td>\n",
       "    </tr>\n",
       "  </tbody>\n",
       "</table>\n",
       "</div>"
      ],
      "text/plain": [
       "   station_id       name   latitude   longitude  dockcount  landmark  \\\n",
       "0           9  Japantown  37.348742 -121.894715         15  San Jose   \n",
       "\n",
       "  installation_date  \n",
       "0        2013-08-05  "
      ]
     },
     "execution_count": 93,
     "metadata": {},
     "output_type": "execute_result"
    }
   ],
   "source": [
    "# SHows the bikeshare_stations dataset\n",
    "df_station_data_set"
   ]
  },
  {
   "cell_type": "markdown",
   "metadata": {},
   "source": [
    "The bikeshare_trips dataset has the trip_id as a key and includes information such as duration of bike ride, start and end stations of a trip, and subscriber type.  Whereas the bikeshare_stations dataset has the station_id as the key and includes information on the landmark and location of the bike stations. The information in these datasets allow us to study how the bikeshare trips vary with time, location, and subscriber type."
   ]
  },
  {
   "cell_type": "markdown",
   "metadata": {},
   "source": [
    "### 2. Bikeshare trips vs time"
   ]
  },
  {
   "cell_type": "markdown",
   "metadata": {},
   "source": [
    "The following three queries show the percentage of trips that occur during each month, week, or day for the past three years.  For the query on months, the script extracts the months from the start_date column, groups the trips according to the months, and then counts the number of trips in each month.  The total number of trips in the dataset is 983,648 and is used to calculate the percentage of trips each month.  Data on the weeks and days are calculated in a similar manner as the months."
   ]
  },
  {
   "cell_type": "code",
   "execution_count": 94,
   "metadata": {},
   "outputs": [],
   "source": [
    "%%bigquery df_monthly\n",
    "\n",
    "SELECT \n",
    "    EXTRACT(month from start_date) as months,\n",
    "    COUNT(trip_id) as trips_started,\n",
    "    ROUND(COUNT(trip_id) / 983648 *100, 2) as percent_of_total_rides\n",
    "FROM `bigquery-public-data.san_francisco.bikeshare_trips`\n",
    "GROUP BY months\n",
    "ORDER BY percent_of_total_rides DESC;"
   ]
  },
  {
   "cell_type": "code",
   "execution_count": 95,
   "metadata": {},
   "outputs": [],
   "source": [
    "%%bigquery df_daily\n",
    "\n",
    "SELECT \n",
    "    EXTRACT(dayofweek FROM start_date) as days,\n",
    "    COUNT(trip_id) as trips_started,\n",
    "    ROUND(COUNT(trip_id) / 983648 *100, 2) as percent_of_total_rides\n",
    "FROM `bigquery-public-data.san_francisco.bikeshare_trips`\n",
    "GROUP BY days\n",
    "ORDER BY percent_of_total_rides DESC;"
   ]
  },
  {
   "cell_type": "code",
   "execution_count": 96,
   "metadata": {},
   "outputs": [],
   "source": [
    "%%bigquery df_hourly\n",
    "\n",
    "SELECT \n",
    "    EXTRACT(hour FROM start_date) as hours,\n",
    "    COUNT(trip_id) as trips_started,\n",
    "    ROUND(COUNT(trip_id) / 983648 *100, 2) as percent_of_total_rides\n",
    "FROM `bigquery-public-data.san_francisco.bikeshare_trips`\n",
    "GROUP BY hours\n",
    "ORDER BY percent_of_total_rides DESC;"
   ]
  },
  {
   "cell_type": "markdown",
   "metadata": {},
   "source": [
    "A sample of the monthly data that was extracted is shown below.  Summing the trips_started column shows we have accounted for all the trips."
   ]
  },
  {
   "cell_type": "code",
   "execution_count": 97,
   "metadata": {},
   "outputs": [
    {
     "name": "stdout",
     "output_type": "stream",
     "text": [
      "Total trips = 983648\n"
     ]
    },
    {
     "data": {
      "text/html": [
       "<div>\n",
       "<style scoped>\n",
       "    .dataframe tbody tr th:only-of-type {\n",
       "        vertical-align: middle;\n",
       "    }\n",
       "\n",
       "    .dataframe tbody tr th {\n",
       "        vertical-align: top;\n",
       "    }\n",
       "\n",
       "    .dataframe thead th {\n",
       "        text-align: right;\n",
       "    }\n",
       "</style>\n",
       "<table border=\"1\" class=\"dataframe\">\n",
       "  <thead>\n",
       "    <tr style=\"text-align: right;\">\n",
       "      <th></th>\n",
       "      <th>months</th>\n",
       "      <th>trips_started</th>\n",
       "      <th>percent_of_total_rides</th>\n",
       "    </tr>\n",
       "  </thead>\n",
       "  <tbody>\n",
       "    <tr>\n",
       "      <th>0</th>\n",
       "      <td>8</td>\n",
       "      <td>95576</td>\n",
       "      <td>9.72</td>\n",
       "    </tr>\n",
       "    <tr>\n",
       "      <th>1</th>\n",
       "      <td>10</td>\n",
       "      <td>94378</td>\n",
       "      <td>9.59</td>\n",
       "    </tr>\n",
       "    <tr>\n",
       "      <th>2</th>\n",
       "      <td>6</td>\n",
       "      <td>91672</td>\n",
       "      <td>9.32</td>\n",
       "    </tr>\n",
       "    <tr>\n",
       "      <th>3</th>\n",
       "      <td>7</td>\n",
       "      <td>89539</td>\n",
       "      <td>9.10</td>\n",
       "    </tr>\n",
       "    <tr>\n",
       "      <th>4</th>\n",
       "      <td>9</td>\n",
       "      <td>87321</td>\n",
       "      <td>8.88</td>\n",
       "    </tr>\n",
       "    <tr>\n",
       "      <th>5</th>\n",
       "      <td>5</td>\n",
       "      <td>86364</td>\n",
       "      <td>8.78</td>\n",
       "    </tr>\n",
       "    <tr>\n",
       "      <th>6</th>\n",
       "      <td>4</td>\n",
       "      <td>84196</td>\n",
       "      <td>8.56</td>\n",
       "    </tr>\n",
       "    <tr>\n",
       "      <th>7</th>\n",
       "      <td>3</td>\n",
       "      <td>81777</td>\n",
       "      <td>8.31</td>\n",
       "    </tr>\n",
       "    <tr>\n",
       "      <th>8</th>\n",
       "      <td>11</td>\n",
       "      <td>73091</td>\n",
       "      <td>7.43</td>\n",
       "    </tr>\n",
       "    <tr>\n",
       "      <th>9</th>\n",
       "      <td>1</td>\n",
       "      <td>71788</td>\n",
       "      <td>7.30</td>\n",
       "    </tr>\n",
       "    <tr>\n",
       "      <th>10</th>\n",
       "      <td>2</td>\n",
       "      <td>69985</td>\n",
       "      <td>7.11</td>\n",
       "    </tr>\n",
       "    <tr>\n",
       "      <th>11</th>\n",
       "      <td>12</td>\n",
       "      <td>57961</td>\n",
       "      <td>5.89</td>\n",
       "    </tr>\n",
       "  </tbody>\n",
       "</table>\n",
       "</div>"
      ],
      "text/plain": [
       "    months  trips_started  percent_of_total_rides\n",
       "0        8          95576                    9.72\n",
       "1       10          94378                    9.59\n",
       "2        6          91672                    9.32\n",
       "3        7          89539                    9.10\n",
       "4        9          87321                    8.88\n",
       "5        5          86364                    8.78\n",
       "6        4          84196                    8.56\n",
       "7        3          81777                    8.31\n",
       "8       11          73091                    7.43\n",
       "9        1          71788                    7.30\n",
       "10       2          69985                    7.11\n",
       "11      12          57961                    5.89"
      ]
     },
     "execution_count": 97,
     "metadata": {},
     "output_type": "execute_result"
    }
   ],
   "source": [
    "# Prints the total trips\n",
    "print('Total trips = ' + str(sum(df_monthly['trips_started'])))\n",
    "\n",
    "# Shows the monthly dataset\n",
    "df_monthly"
   ]
  },
  {
   "cell_type": "markdown",
   "metadata": {},
   "source": [
    "Next we will visualize the monthly, daily, and hourly start_trip data using matplotlib and Seaborn.  Three subplots are created with the y-axis representing the distribution of total trips."
   ]
  },
  {
   "cell_type": "code",
   "execution_count": 98,
   "metadata": {},
   "outputs": [
    {
     "data": {
      "image/png": "[encoded data removed]",
      "text/plain": [
       "<Figure size 1440x432 with 3 Axes>"
      ]
     },
     "metadata": {
      "needs_background": "light"
     },
     "output_type": "display_data"
    }
   ],
   "source": [
    "# Initialize the matplotlib figure\n",
    "fig, (ax1, ax2, ax3) = plt.subplots(nrows=1, ncols=3, figsize=(20, 6))\n",
    "\n",
    "# Plot the barplots for monthly, daily, and hourly datasets\n",
    "ax1 = sns.barplot(x=\"months\", y=\"percent_of_total_rides\", data=df_monthly, ax=ax1)\n",
    "ax2 = sns.barplot(x=\"days\", y=\"percent_of_total_rides\", data=df_daily, ax=ax2)\n",
    "ax3 = sns.barplot(x=\"hours\", y=\"percent_of_total_rides\", data=df_hourly, ax=ax3)\n",
    "\n",
    "# Edit the title and labels for each plot\n",
    "ax1.set_title('Trips per Month of Year')\n",
    "ax1.set_xlabel('Months')\n",
    "ax1.set_ylabel('% of Trips')\n",
    "\n",
    "ax2.set_title('Trips per Day of Week')\n",
    "ax2.set_xlabel('Days')\n",
    "ax2.set_ylabel('% of Trips')\n",
    "\n",
    "ax3.set_title('Trips per Hour of Day')\n",
    "ax3.set_xlabel('Hours')\n",
    "ax3.set_ylabel('% of Trips')\n",
    "\n",
    "# Show the plot\n",
    "plt.show()"
   ]
  },
  {
   "cell_type": "markdown",
   "metadata": {},
   "source": [
    "From the bar charts, we can see that the percentage of trips are not uniform throughout the months, days of the week, and hours of a day.  The winter months, November through February, see a slight dip in rides.  During the week, most rides happen between Monday (2) through Friday (6).  Within a day there is bimodal distribution where rides are concentrated in the morning between 7-10am and evening between 4-7pm.  \n",
    "\n",
    "The combination of these three graphics suggests the majority of trips on our bikes are used during working times and is likely being used by commuters.\n",
    "\n",
    "Next take a look at location."
   ]
  },
  {
   "cell_type": "markdown",
   "metadata": {},
   "source": [
    "### 3. Bikeshare trips vs Location"
   ]
  },
  {
   "cell_type": "markdown",
   "metadata": {},
   "source": [
    "#### 3a. How do trips vary with city?"
   ]
  },
  {
   "cell_type": "markdown",
   "metadata": {},
   "source": [
    "The following query looks at both the bikeshare_trips and bikeshare_stations dataset to count the number of unique trips for each landmark (i.e. city).  The query joins both stations using start_station_id and station_id, then returns a data frame in descending order."
   ]
  },
  {
   "cell_type": "code",
   "execution_count": 99,
   "metadata": {},
   "outputs": [],
   "source": [
    "%%bigquery df_city\n",
    "\n",
    "SELECT\n",
    "    landmark,\n",
    "    count(trip_id) as trips_started,\n",
    "FROM `bigquery-public-data.san_francisco.bikeshare_trips`\n",
    "INNER JOIN `bigquery-public-data.san_francisco.bikeshare_stations`\n",
    "ON start_station_id = station_id\n",
    "GROUP BY landmark\n",
    "ORDER BY trips_started DESC\n",
    ";"
   ]
  },
  {
   "cell_type": "markdown",
   "metadata": {},
   "source": [
    "A sample of the city data is shown below and we have added a column %_trips to include the proportion each city contributes to the total"
   ]
  },
  {
   "cell_type": "code",
   "execution_count": 100,
   "metadata": {},
   "outputs": [
    {
     "name": "stdout",
     "output_type": "stream",
     "text": [
      "Total trips = 983648\n"
     ]
    },
    {
     "data": {
      "text/html": [
       "<div>\n",
       "<style scoped>\n",
       "    .dataframe tbody tr th:only-of-type {\n",
       "        vertical-align: middle;\n",
       "    }\n",
       "\n",
       "    .dataframe tbody tr th {\n",
       "        vertical-align: top;\n",
       "    }\n",
       "\n",
       "    .dataframe thead th {\n",
       "        text-align: right;\n",
       "    }\n",
       "</style>\n",
       "<table border=\"1\" class=\"dataframe\">\n",
       "  <thead>\n",
       "    <tr style=\"text-align: right;\">\n",
       "      <th></th>\n",
       "      <th>landmark</th>\n",
       "      <th>trips_started</th>\n",
       "      <th>%_trips</th>\n",
       "    </tr>\n",
       "  </thead>\n",
       "  <tbody>\n",
       "    <tr>\n",
       "      <th>0</th>\n",
       "      <td>San Francisco</td>\n",
       "      <td>891223</td>\n",
       "      <td>90.60</td>\n",
       "    </tr>\n",
       "    <tr>\n",
       "      <th>1</th>\n",
       "      <td>San Jose</td>\n",
       "      <td>52861</td>\n",
       "      <td>5.37</td>\n",
       "    </tr>\n",
       "    <tr>\n",
       "      <th>2</th>\n",
       "      <td>Mountain View</td>\n",
       "      <td>24679</td>\n",
       "      <td>2.51</td>\n",
       "    </tr>\n",
       "    <tr>\n",
       "      <th>3</th>\n",
       "      <td>Palo Alto</td>\n",
       "      <td>9889</td>\n",
       "      <td>1.01</td>\n",
       "    </tr>\n",
       "    <tr>\n",
       "      <th>4</th>\n",
       "      <td>Redwood City</td>\n",
       "      <td>4996</td>\n",
       "      <td>0.51</td>\n",
       "    </tr>\n",
       "  </tbody>\n",
       "</table>\n",
       "</div>"
      ],
      "text/plain": [
       "        landmark  trips_started  %_trips\n",
       "0  San Francisco         891223    90.60\n",
       "1       San Jose          52861     5.37\n",
       "2  Mountain View          24679     2.51\n",
       "3      Palo Alto           9889     1.01\n",
       "4   Redwood City           4996     0.51"
      ]
     },
     "execution_count": 100,
     "metadata": {},
     "output_type": "execute_result"
    }
   ],
   "source": [
    "# Prints the total trips\n",
    "print('Total trips = ' + str(sum(df_city['trips_started'])))\n",
    "\n",
    "\n",
    "# Adds the columns %_trips\n",
    "df_city['%_trips'] = round(df_city['trips_started']/sum(df_city['trips_started']) * 100, 2)\n",
    "df_city"
   ]
  },
  {
   "cell_type": "markdown",
   "metadata": {},
   "source": [
    "From the above data table, we can easily see that 90% of our trips are concentrated in San Francisco.  Let's take a deeper look at San Francisco then."
   ]
  },
  {
   "cell_type": "markdown",
   "metadata": {},
   "source": [
    "#### 3b. How do trips vary in San Francisco?"
   ]
  },
  {
   "cell_type": "markdown",
   "metadata": {},
   "source": [
    "To look at the trips specifically in San Francisco, we use the dataset from bikeshare_trips and bikeshare_stations and set the landmark to \"San Francisco\".  The output is a data frame of trips in every start station in San Francisco.  Then we order the stations by the most trips and limit to the top 10."
   ]
  },
  {
   "cell_type": "code",
   "execution_count": 102,
   "metadata": {},
   "outputs": [],
   "source": [
    "%%bigquery df_sf\n",
    "\n",
    "SELECT\n",
    "    start_station_id,\n",
    "    start_station_name,\n",
    "    count(trip_id) as trips_started,\n",
    "FROM `bigquery-public-data.san_francisco.bikeshare_trips`\n",
    "INNER JOIN `bigquery-public-data.san_francisco.bikeshare_stations`\n",
    "ON start_station_id = station_id\n",
    "WHERE landmark = 'San Francisco'\n",
    "GROUP BY start_station_id, start_station_name\n",
    "ORDER BY trips_started DESC LIMIT 10\n",
    ";"
   ]
  },
  {
   "cell_type": "markdown",
   "metadata": {},
   "source": [
    "We then use pandas dataframe to add a column %_trips_sf for the proportion each station contributes to the total trips in San Francisco.  Additionally, a new row Top 10 in SF is added to sum the top 10 values."
   ]
  },
  {
   "cell_type": "code",
   "execution_count": 103,
   "metadata": {},
   "outputs": [
    {
     "data": {
      "text/html": [
       "<div>\n",
       "<style scoped>\n",
       "    .dataframe tbody tr th:only-of-type {\n",
       "        vertical-align: middle;\n",
       "    }\n",
       "\n",
       "    .dataframe tbody tr th {\n",
       "        vertical-align: top;\n",
       "    }\n",
       "\n",
       "    .dataframe thead th {\n",
       "        text-align: right;\n",
       "    }\n",
       "</style>\n",
       "<table border=\"1\" class=\"dataframe\">\n",
       "  <thead>\n",
       "    <tr style=\"text-align: right;\">\n",
       "      <th></th>\n",
       "      <th>start_station_id</th>\n",
       "      <th>start_station_name</th>\n",
       "      <th>trips_started</th>\n",
       "      <th>%_trips_sf</th>\n",
       "    </tr>\n",
       "  </thead>\n",
       "  <tbody>\n",
       "    <tr>\n",
       "      <th>0</th>\n",
       "      <td></td>\n",
       "      <td>Top 10 in SF</td>\n",
       "      <td>436894</td>\n",
       "      <td>49.03</td>\n",
       "    </tr>\n",
       "    <tr>\n",
       "      <th>1</th>\n",
       "      <td>70</td>\n",
       "      <td>San Francisco Caltrain (Townsend at 4th)</td>\n",
       "      <td>72683</td>\n",
       "      <td>8.16</td>\n",
       "    </tr>\n",
       "    <tr>\n",
       "      <th>2</th>\n",
       "      <td>69</td>\n",
       "      <td>San Francisco Caltrain 2 (330 Townsend)</td>\n",
       "      <td>56100</td>\n",
       "      <td>6.29</td>\n",
       "    </tr>\n",
       "    <tr>\n",
       "      <th>3</th>\n",
       "      <td>50</td>\n",
       "      <td>Harry Bridges Plaza (Ferry Building)</td>\n",
       "      <td>49062</td>\n",
       "      <td>5.51</td>\n",
       "    </tr>\n",
       "    <tr>\n",
       "      <th>4</th>\n",
       "      <td>60</td>\n",
       "      <td>Embarcadero at Sansome</td>\n",
       "      <td>41137</td>\n",
       "      <td>4.62</td>\n",
       "    </tr>\n",
       "    <tr>\n",
       "      <th>5</th>\n",
       "      <td>61</td>\n",
       "      <td>2nd at Townsend</td>\n",
       "      <td>39936</td>\n",
       "      <td>4.48</td>\n",
       "    </tr>\n",
       "    <tr>\n",
       "      <th>6</th>\n",
       "      <td>55</td>\n",
       "      <td>Temporary Transbay Terminal (Howard at Beale)</td>\n",
       "      <td>39200</td>\n",
       "      <td>4.40</td>\n",
       "    </tr>\n",
       "    <tr>\n",
       "      <th>7</th>\n",
       "      <td>74</td>\n",
       "      <td>Steuart at Market</td>\n",
       "      <td>38531</td>\n",
       "      <td>4.32</td>\n",
       "    </tr>\n",
       "    <tr>\n",
       "      <th>8</th>\n",
       "      <td>77</td>\n",
       "      <td>Market at Sansome</td>\n",
       "      <td>35142</td>\n",
       "      <td>3.94</td>\n",
       "    </tr>\n",
       "    <tr>\n",
       "      <th>9</th>\n",
       "      <td>65</td>\n",
       "      <td>Townsend at 7th</td>\n",
       "      <td>34894</td>\n",
       "      <td>3.92</td>\n",
       "    </tr>\n",
       "    <tr>\n",
       "      <th>10</th>\n",
       "      <td>67</td>\n",
       "      <td>Market at 10th</td>\n",
       "      <td>30209</td>\n",
       "      <td>3.39</td>\n",
       "    </tr>\n",
       "  </tbody>\n",
       "</table>\n",
       "</div>"
      ],
      "text/plain": [
       "   start_station_id                             start_station_name  \\\n",
       "0                                                     Top 10 in SF   \n",
       "1                70       San Francisco Caltrain (Townsend at 4th)   \n",
       "2                69        San Francisco Caltrain 2 (330 Townsend)   \n",
       "3                50           Harry Bridges Plaza (Ferry Building)   \n",
       "4                60                         Embarcadero at Sansome   \n",
       "5                61                                2nd at Townsend   \n",
       "6                55  Temporary Transbay Terminal (Howard at Beale)   \n",
       "7                74                              Steuart at Market   \n",
       "8                77                              Market at Sansome   \n",
       "9                65                                Townsend at 7th   \n",
       "10               67                                 Market at 10th   \n",
       "\n",
       "    trips_started  %_trips_sf  \n",
       "0          436894       49.03  \n",
       "1           72683        8.16  \n",
       "2           56100        6.29  \n",
       "3           49062        5.51  \n",
       "4           41137        4.62  \n",
       "5           39936        4.48  \n",
       "6           39200        4.40  \n",
       "7           38531        4.32  \n",
       "8           35142        3.94  \n",
       "9           34894        3.92  \n",
       "10          30209        3.39  "
      ]
     },
     "execution_count": 103,
     "metadata": {},
     "output_type": "execute_result"
    }
   ],
   "source": [
    "# Add the column %_trips_sf\n",
    "df_sf['%_trips_sf'] = round(df_sf['trips_started']/df_city['trips_started'][0] * 100, 2)\n",
    "\n",
    "# Creeate a new row Top 10 in SF\n",
    "new_row = pd.DataFrame(\n",
    "    {'start_station_id':' ',\n",
    "     'start_station_name':'Top 10 in SF', \n",
    "     'trips_started':sum(df_sf['trips_started']),\n",
    "     '%_trips_sf': sum(df_sf['%_trips_sf'])\n",
    "    },\n",
    "     index =[10])\n",
    "\n",
    "# Add the new row to the df_sf dataframe\n",
    "df_sf = pd.concat([new_row, df_sf]).reset_index(drop = True)\n",
    "\n",
    "# Show the edited dataframe\n",
    "df_sf"
   ]
  },
  {
   "cell_type": "markdown",
   "metadata": {},
   "source": [
    "Almost 50% of the trips in San Francisco occur in these top 10 locations.  When we put the trips into Google Maps and import the image we see:"
   ]
  },
  {
   "cell_type": "code",
   "execution_count": 104,
   "metadata": {},
   "outputs": [
    {
     "data": {
      "image/jpeg": "[encoded data removed]",
      "text/plain": [
       "<IPython.core.display.Image object>"
      ]
     },
     "execution_count": 104,
     "metadata": {},
     "output_type": "execute_result"
    }
   ],
   "source": [
    "# Using Image function from IPython library to import an image\n",
    "from IPython.display import Image\n",
    "\n",
    "# File path of this image will need to be corrected for local image file path\n",
    "Image(filename='/home/jupyter/w205/project-1-sli0111/df_sf_map.jpg') "
   ]
  },
  {
   "cell_type": "markdown",
   "metadata": {},
   "source": [
    "In the above map, most of the trips in San Francisco occur near the financial district and at transportation hubs like: Caltrain, Ferry Building, Transbay Terminal and Bart.  Thus the data suggests a good majority of riders in San Francisco are likely commuters.  To confirm this idea, we can combine the data from time and location.  \n",
    "\n",
    "The following query reports the trips on weekends and weekdays in the top 10 start stations in San Francisco. First, the dataset from bikeshare_trips is filtered to the start stations defined in df_sf.  Then, the dayofweek extracts the day information from the start_date.  Finally, an if/else statement (using case) sums the trips between Monday to Friday (i.e. 2 to 6) and Sunday and Saturday (i.e. 1 and 7) for each start station separately.    "
   ]
  },
  {
   "cell_type": "code",
   "execution_count": 106,
   "metadata": {},
   "outputs": [],
   "source": [
    "%%bigquery df_sf_days\n",
    "\n",
    "SELECT \n",
    "    start_station_name,  \n",
    "    count(*) as trips_started,\n",
    "    sum(case when day in (2, 3, 4, 5, 6) then 1 else 0 end) as weekday,\n",
    "    sum(case when day in (1,7) then 1 else 0 end) as weekend\n",
    "FROM(\n",
    "    SELECT \n",
    "        start_station_id,\n",
    "        start_station_name,\n",
    "        trip_id,\n",
    "        extract(dayofweek from start_date) as day\n",
    "    FROM `bigquery-public-data.san_francisco.bikeshare_trips`\n",
    "    WHERE start_station_id in (70, 69, 50, 60, 61, 55, 74, 77, 65, 67)\n",
    "    )\n",
    "GROUP BY start_station_name\n",
    "ORDER BY trips_started DESC\n",
    ";"
   ]
  },
  {
   "cell_type": "markdown",
   "metadata": {},
   "source": [
    "The dataframe produced from the query above is edited to add the % weekday trips and % weekend trips out of trips_started."
   ]
  },
  {
   "cell_type": "code",
   "execution_count": 107,
   "metadata": {},
   "outputs": [
    {
     "data": {
      "text/html": [
       "<div>\n",
       "<style scoped>\n",
       "    .dataframe tbody tr th:only-of-type {\n",
       "        vertical-align: middle;\n",
       "    }\n",
       "\n",
       "    .dataframe tbody tr th {\n",
       "        vertical-align: top;\n",
       "    }\n",
       "\n",
       "    .dataframe thead th {\n",
       "        text-align: right;\n",
       "    }\n",
       "</style>\n",
       "<table border=\"1\" class=\"dataframe\">\n",
       "  <thead>\n",
       "    <tr style=\"text-align: right;\">\n",
       "      <th></th>\n",
       "      <th>start_station_name</th>\n",
       "      <th>trips_started</th>\n",
       "      <th>weekday</th>\n",
       "      <th>weekend</th>\n",
       "      <th>%_weekday</th>\n",
       "      <th>%_weekend</th>\n",
       "    </tr>\n",
       "  </thead>\n",
       "  <tbody>\n",
       "    <tr>\n",
       "      <th>0</th>\n",
       "      <td>San Francisco Caltrain (Townsend at 4th)</td>\n",
       "      <td>72683</td>\n",
       "      <td>68896</td>\n",
       "      <td>3787</td>\n",
       "      <td>94.79</td>\n",
       "      <td>5.21</td>\n",
       "    </tr>\n",
       "    <tr>\n",
       "      <th>1</th>\n",
       "      <td>San Francisco Caltrain 2 (330 Townsend)</td>\n",
       "      <td>56100</td>\n",
       "      <td>53299</td>\n",
       "      <td>2801</td>\n",
       "      <td>95.01</td>\n",
       "      <td>4.99</td>\n",
       "    </tr>\n",
       "    <tr>\n",
       "      <th>2</th>\n",
       "      <td>Harry Bridges Plaza (Ferry Building)</td>\n",
       "      <td>49062</td>\n",
       "      <td>40610</td>\n",
       "      <td>8452</td>\n",
       "      <td>82.77</td>\n",
       "      <td>17.23</td>\n",
       "    </tr>\n",
       "    <tr>\n",
       "      <th>3</th>\n",
       "      <td>Embarcadero at Sansome</td>\n",
       "      <td>41137</td>\n",
       "      <td>32345</td>\n",
       "      <td>8792</td>\n",
       "      <td>78.63</td>\n",
       "      <td>21.37</td>\n",
       "    </tr>\n",
       "    <tr>\n",
       "      <th>4</th>\n",
       "      <td>2nd at Townsend</td>\n",
       "      <td>39936</td>\n",
       "      <td>35599</td>\n",
       "      <td>4337</td>\n",
       "      <td>89.14</td>\n",
       "      <td>10.86</td>\n",
       "    </tr>\n",
       "    <tr>\n",
       "      <th>5</th>\n",
       "      <td>Temporary Transbay Terminal (Howard at Beale)</td>\n",
       "      <td>39200</td>\n",
       "      <td>37764</td>\n",
       "      <td>1436</td>\n",
       "      <td>96.34</td>\n",
       "      <td>3.66</td>\n",
       "    </tr>\n",
       "    <tr>\n",
       "      <th>6</th>\n",
       "      <td>Steuart at Market</td>\n",
       "      <td>38531</td>\n",
       "      <td>35389</td>\n",
       "      <td>3142</td>\n",
       "      <td>91.85</td>\n",
       "      <td>8.15</td>\n",
       "    </tr>\n",
       "    <tr>\n",
       "      <th>7</th>\n",
       "      <td>Market at Sansome</td>\n",
       "      <td>35142</td>\n",
       "      <td>32248</td>\n",
       "      <td>2894</td>\n",
       "      <td>91.76</td>\n",
       "      <td>8.24</td>\n",
       "    </tr>\n",
       "    <tr>\n",
       "      <th>8</th>\n",
       "      <td>Townsend at 7th</td>\n",
       "      <td>34894</td>\n",
       "      <td>32182</td>\n",
       "      <td>2712</td>\n",
       "      <td>92.23</td>\n",
       "      <td>7.77</td>\n",
       "    </tr>\n",
       "    <tr>\n",
       "      <th>9</th>\n",
       "      <td>Market at 10th</td>\n",
       "      <td>30209</td>\n",
       "      <td>27076</td>\n",
       "      <td>3133</td>\n",
       "      <td>89.63</td>\n",
       "      <td>10.37</td>\n",
       "    </tr>\n",
       "  </tbody>\n",
       "</table>\n",
       "</div>"
      ],
      "text/plain": [
       "                              start_station_name  trips_started  weekday  \\\n",
       "0       San Francisco Caltrain (Townsend at 4th)          72683    68896   \n",
       "1        San Francisco Caltrain 2 (330 Townsend)          56100    53299   \n",
       "2           Harry Bridges Plaza (Ferry Building)          49062    40610   \n",
       "3                         Embarcadero at Sansome          41137    32345   \n",
       "4                                2nd at Townsend          39936    35599   \n",
       "5  Temporary Transbay Terminal (Howard at Beale)          39200    37764   \n",
       "6                              Steuart at Market          38531    35389   \n",
       "7                              Market at Sansome          35142    32248   \n",
       "8                                Townsend at 7th          34894    32182   \n",
       "9                                 Market at 10th          30209    27076   \n",
       "\n",
       "   weekend  %_weekday  %_weekend  \n",
       "0     3787      94.79       5.21  \n",
       "1     2801      95.01       4.99  \n",
       "2     8452      82.77      17.23  \n",
       "3     8792      78.63      21.37  \n",
       "4     4337      89.14      10.86  \n",
       "5     1436      96.34       3.66  \n",
       "6     3142      91.85       8.15  \n",
       "7     2894      91.76       8.24  \n",
       "8     2712      92.23       7.77  \n",
       "9     3133      89.63      10.37  "
      ]
     },
     "execution_count": 107,
     "metadata": {},
     "output_type": "execute_result"
    }
   ],
   "source": [
    "# Divide the trips started into % weekday and % weekend\n",
    "df_sf_days['%_weekday'] = round(df_sf_days['weekday']/df_sf_days['trips_started']*100, 2)\n",
    "df_sf_days['%_weekend'] = round(df_sf_days['weekend']/df_sf_days['trips_started']*100, 2)\n",
    "\n",
    "df_sf_days"
   ]
  },
  {
   "cell_type": "markdown",
   "metadata": {},
   "source": [
    "With matplotlib and seaborn, a horizontal bar chart is produced to visualize the weekday trips relative to their start stations."
   ]
  },
  {
   "cell_type": "code",
   "execution_count": 44,
   "metadata": {},
   "outputs": [
    {
     "data": {
      "image/png": "[encoded data removed]",
      "text/plain": [
       "<Figure size 1080x720 with 1 Axes>"
      ]
     },
     "metadata": {},
     "output_type": "display_data"
    }
   ],
   "source": [
    "# Initialize the matplotlib figure\n",
    "fig, ax = plt.subplots(figsize=(15, 10))\n",
    "sns.set(style=\"whitegrid\")\n",
    "\n",
    "# Plot the number of total trips started\n",
    "sns.set_color_codes('pastel')\n",
    "sns.barplot(x=\"trips_started\", y=\"start_station_name\", data=df_sf_days, \n",
    "            label='trips_started', color = 'b')\n",
    "\n",
    "# Plot the number of trips on the weekday\n",
    "sns.set_color_codes(\"muted\")\n",
    "sns.barplot(x=\"weekday\", y=\"start_station_name\", data=df_sf_days,\n",
    "            label=\"weekday trips\", color=\"b\")\n",
    "\n",
    "# Add a legend and informative axis label\n",
    "ax.legend(ncol=2, loc=\"lower right\", frameon=True)\n",
    "ax.set(ylabel=\"Start Station in San Francisco\",\n",
    "       xlabel=\"Number of Trips\",\n",
    "       title=\"Number of Trips in San Francisco During the Weekday\")\n",
    "sns.despine(left=True, bottom=True)"
   ]
  },
  {
   "cell_type": "markdown",
   "metadata": {},
   "source": [
    "The table and figure above shows roughly >80% of trips at these popular start stations happen on the weekday.  Since work days happen on weekdays, the graphic further enfources the majority of bikeshare rides are commuters.\n",
    "\n",
    "Last part of this data exploration look at how the bikeshare trips vary with length of ride."
   ]
  },
  {
   "cell_type": "markdown",
   "metadata": {},
   "source": [
    "### 4.  Bikeshare Trips vs Length of Ride"
   ]
  },
  {
   "cell_type": "markdown",
   "metadata": {},
   "source": [
    "The query below uses the bikeshare_trips dataset and returns a dataframe containing the average duration of bike trips for each start station.  The AVG function calculates the average duration of the ride and is converted to mimutes from seconds."
   ]
  },
  {
   "cell_type": "code",
   "execution_count": 109,
   "metadata": {},
   "outputs": [],
   "source": [
    "%%bigquery df_length\n",
    "\n",
    "SELECT \n",
    "    start_station_name, \n",
    "    start_station_id, \n",
    "    COUNT(start_station_id) as trips_started,\n",
    "    ROUND(AVG(duration_sec/60),2) as average_trip_length_minutes\n",
    "FROM `bigquery-public-data.san_francisco.bikeshare_trips`\n",
    "GROUP BY start_station_name, start_station_id"
   ]
  },
  {
   "cell_type": "code",
   "execution_count": 152,
   "metadata": {},
   "outputs": [
    {
     "data": {
      "text/html": [
       "<div>\n",
       "<style scoped>\n",
       "    .dataframe tbody tr th:only-of-type {\n",
       "        vertical-align: middle;\n",
       "    }\n",
       "\n",
       "    .dataframe tbody tr th {\n",
       "        vertical-align: top;\n",
       "    }\n",
       "\n",
       "    .dataframe thead th {\n",
       "        text-align: right;\n",
       "    }\n",
       "</style>\n",
       "<table border=\"1\" class=\"dataframe\">\n",
       "  <thead>\n",
       "    <tr style=\"text-align: right;\">\n",
       "      <th></th>\n",
       "      <th>start_station_name</th>\n",
       "      <th>start_station_id</th>\n",
       "      <th>trips_started</th>\n",
       "      <th>average_trip_length_minutes</th>\n",
       "    </tr>\n",
       "  </thead>\n",
       "  <tbody>\n",
       "    <tr>\n",
       "      <th>0</th>\n",
       "      <td>Mezes</td>\n",
       "      <td>83</td>\n",
       "      <td>119</td>\n",
       "      <td>11.31</td>\n",
       "    </tr>\n",
       "    <tr>\n",
       "      <th>1</th>\n",
       "      <td>Kaiser Hospital</td>\n",
       "      <td>26</td>\n",
       "      <td>147</td>\n",
       "      <td>10.98</td>\n",
       "    </tr>\n",
       "    <tr>\n",
       "      <th>2</th>\n",
       "      <td>Sequoia Hospital</td>\n",
       "      <td>21</td>\n",
       "      <td>15</td>\n",
       "      <td>26.98</td>\n",
       "    </tr>\n",
       "    <tr>\n",
       "      <th>3</th>\n",
       "      <td>San Mateo County Center</td>\n",
       "      <td>23</td>\n",
       "      <td>373</td>\n",
       "      <td>39.13</td>\n",
       "    </tr>\n",
       "    <tr>\n",
       "      <th>4</th>\n",
       "      <td>Redwood City Public Library</td>\n",
       "      <td>24</td>\n",
       "      <td>272</td>\n",
       "      <td>64.10</td>\n",
       "    </tr>\n",
       "    <tr>\n",
       "      <th>...</th>\n",
       "      <td>...</td>\n",
       "      <td>...</td>\n",
       "      <td>...</td>\n",
       "      <td>...</td>\n",
       "    </tr>\n",
       "    <tr>\n",
       "      <th>79</th>\n",
       "      <td>California Ave Caltrain Station</td>\n",
       "      <td>36</td>\n",
       "      <td>1418</td>\n",
       "      <td>67.99</td>\n",
       "    </tr>\n",
       "    <tr>\n",
       "      <th>80</th>\n",
       "      <td>Charleston Park/ North Bayshore Area</td>\n",
       "      <td>33</td>\n",
       "      <td>343</td>\n",
       "      <td>41.08</td>\n",
       "    </tr>\n",
       "    <tr>\n",
       "      <th>81</th>\n",
       "      <td>Stanford in Redwood City</td>\n",
       "      <td>25</td>\n",
       "      <td>864</td>\n",
       "      <td>19.66</td>\n",
       "    </tr>\n",
       "    <tr>\n",
       "      <th>82</th>\n",
       "      <td>Evelyn Park and Ride</td>\n",
       "      <td>30</td>\n",
       "      <td>1738</td>\n",
       "      <td>18.72</td>\n",
       "    </tr>\n",
       "    <tr>\n",
       "      <th>83</th>\n",
       "      <td>5th St at E. San Salvador St</td>\n",
       "      <td>88</td>\n",
       "      <td>1</td>\n",
       "      <td>11.73</td>\n",
       "    </tr>\n",
       "  </tbody>\n",
       "</table>\n",
       "<p>84 rows × 4 columns</p>\n",
       "</div>"
      ],
      "text/plain": [
       "                      start_station_name  start_station_id  trips_started  \\\n",
       "0                                  Mezes                83            119   \n",
       "1                        Kaiser Hospital                26            147   \n",
       "2                       Sequoia Hospital                21             15   \n",
       "3                San Mateo County Center                23            373   \n",
       "4            Redwood City Public Library                24            272   \n",
       "..                                   ...               ...            ...   \n",
       "79       California Ave Caltrain Station                36           1418   \n",
       "80  Charleston Park/ North Bayshore Area                33            343   \n",
       "81              Stanford in Redwood City                25            864   \n",
       "82                  Evelyn Park and Ride                30           1738   \n",
       "83          5th St at E. San Salvador St                88              1   \n",
       "\n",
       "    average_trip_length_minutes  \n",
       "0                         11.31  \n",
       "1                         10.98  \n",
       "2                         26.98  \n",
       "3                         39.13  \n",
       "4                         64.10  \n",
       "..                          ...  \n",
       "79                        67.99  \n",
       "80                        41.08  \n",
       "81                        19.66  \n",
       "82                        18.72  \n",
       "83                        11.73  \n",
       "\n",
       "[84 rows x 4 columns]"
      ]
     },
     "execution_count": 152,
     "metadata": {},
     "output_type": "execute_result"
    }
   ],
   "source": [
    "# Shows dataframe for the average duration of trips for each start station\n",
    "df_length"
   ]
  },
  {
   "cell_type": "markdown",
   "metadata": {},
   "source": [
    "To visualize the spread of bike durations, we use seaborn to plot a frequency plot.  The x-axis contains bins of trip durations and the y-axis is the frequency of each bin."
   ]
  },
  {
   "cell_type": "code",
   "execution_count": 63,
   "metadata": {},
   "outputs": [
    {
     "data": {
      "text/plain": [
       "[Text(0, 0.5, 'Frequency'),\n",
       " Text(0.5, 0, 'Average Trip Length at Start Stations (minutes)'),\n",
       " Text(0.5, 1.0, 'Frequency of Trip Length')]"
      ]
     },
     "execution_count": 63,
     "metadata": {},
     "output_type": "execute_result"
    },
    {
     "data": {
      "image/png": "[encoded data removed]",
      "text/plain": [
       "<Figure size 1080x720 with 1 Axes>"
      ]
     },
     "metadata": {},
     "output_type": "display_data"
    }
   ],
   "source": [
    "# Initialize the matplotlib figure\n",
    "fig, ax = plt.subplots(figsize=(15, 10))\n",
    "\n",
    "# Distribution plot of the average trip lengths\n",
    "sns.distplot(a=df_length['average_trip_length_minutes'], bins=10, kde=False)\n",
    "ax.set(\n",
    "    xlabel='Average Trip Length at Start Stations (minutes)',\n",
    "    ylabel='Frequency',\n",
    "    title='Frequency of Trip Length')\n"
   ]
  },
  {
   "cell_type": "markdown",
   "metadata": {},
   "source": [
    "The distribution of bikes trips are skewed to the right, where >60% of the trips are less than 30 minutes long.  Since the average bike speed is about 15 mph, the typical distances these bikers are traveling is about 7 miles.  Many of the companies in the financial district are within 7 miles of major transportation hubs Caltrain, Ferry Building, Transbay Terminal, and Bart.  Thus the majority of bikeshare riders are commuters that work in the financial district."
   ]
  },
  {
   "cell_type": "markdown",
   "metadata": {},
   "source": [
    "### 5. Top 5 Commuter Trips"
   ]
  },
  {
   "cell_type": "markdown",
   "metadata": {},
   "source": [
    "With the information from sections 0-4, here we define the top 5 commuter trips in this dataset.  A commuter trip will be defined with the following three criteria: \n",
    "* starts from the top 10 start stations\n",
    "* under 30 minutes long\n",
    "* occurs either at 7-10 am or 4-7 pm.  \n",
    "\n",
    "Combing some of the queries from prior, we get a query of the bikeshare_trips dataset and implementing the three criteria into the WHERE statement.  Using ORDER BY, the output is a dataframe that list the top 5 commuter trips."
   ]
  },
  {
   "cell_type": "code",
   "execution_count": 112,
   "metadata": {},
   "outputs": [],
   "source": [
    "%%bigquery df_commuter_trips\n",
    "\n",
    "SELECT \n",
    "    start_station_id,\n",
    "    start_station_name,\n",
    "    count(trip_id) as commuter_trips\n",
    "FROM `bigquery-public-data.san_francisco.bikeshare_trips`\n",
    "WHERE \n",
    "    start_station_id in (70, 69, 50, 60, 61, 55, 74, 77, 65, 67) and\n",
    "    duration_sec/60 < 30 and\n",
    "    extract(hour from start_date) in (7, 8, 9, 16, 17, 18)\n",
    "GROUP BY start_station_name, start_station_id\n",
    "ORDER BY commuter_trips DESC LIMIT 5\n",
    ";"
   ]
  },
  {
   "cell_type": "code",
   "execution_count": 113,
   "metadata": {},
   "outputs": [
    {
     "data": {
      "text/html": [
       "<div>\n",
       "<style scoped>\n",
       "    .dataframe tbody tr th:only-of-type {\n",
       "        vertical-align: middle;\n",
       "    }\n",
       "\n",
       "    .dataframe tbody tr th {\n",
       "        vertical-align: top;\n",
       "    }\n",
       "\n",
       "    .dataframe thead th {\n",
       "        text-align: right;\n",
       "    }\n",
       "</style>\n",
       "<table border=\"1\" class=\"dataframe\">\n",
       "  <thead>\n",
       "    <tr style=\"text-align: right;\">\n",
       "      <th></th>\n",
       "      <th>start_station_id</th>\n",
       "      <th>start_station_name</th>\n",
       "      <th>commuter_trips</th>\n",
       "    </tr>\n",
       "  </thead>\n",
       "  <tbody>\n",
       "    <tr>\n",
       "      <th>0</th>\n",
       "      <td></td>\n",
       "      <td>Top 5 Commuter Trips</td>\n",
       "      <td>177199</td>\n",
       "    </tr>\n",
       "    <tr>\n",
       "      <th>1</th>\n",
       "      <td>70</td>\n",
       "      <td>San Francisco Caltrain (Townsend at 4th)</td>\n",
       "      <td>53145</td>\n",
       "    </tr>\n",
       "    <tr>\n",
       "      <th>2</th>\n",
       "      <td>69</td>\n",
       "      <td>San Francisco Caltrain 2 (330 Townsend)</td>\n",
       "      <td>40971</td>\n",
       "    </tr>\n",
       "    <tr>\n",
       "      <th>3</th>\n",
       "      <td>55</td>\n",
       "      <td>Temporary Transbay Terminal (Howard at Beale)</td>\n",
       "      <td>29132</td>\n",
       "    </tr>\n",
       "    <tr>\n",
       "      <th>4</th>\n",
       "      <td>50</td>\n",
       "      <td>Harry Bridges Plaza (Ferry Building)</td>\n",
       "      <td>28231</td>\n",
       "    </tr>\n",
       "    <tr>\n",
       "      <th>5</th>\n",
       "      <td>74</td>\n",
       "      <td>Steuart at Market</td>\n",
       "      <td>25720</td>\n",
       "    </tr>\n",
       "  </tbody>\n",
       "</table>\n",
       "</div>"
      ],
      "text/plain": [
       "  start_station_id                             start_station_name  \\\n",
       "0                                            Top 5 Commuter Trips   \n",
       "1               70       San Francisco Caltrain (Townsend at 4th)   \n",
       "2               69        San Francisco Caltrain 2 (330 Townsend)   \n",
       "3               55  Temporary Transbay Terminal (Howard at Beale)   \n",
       "4               50           Harry Bridges Plaza (Ferry Building)   \n",
       "5               74                              Steuart at Market   \n",
       "\n",
       "   commuter_trips  \n",
       "0          177199  \n",
       "1           53145  \n",
       "2           40971  \n",
       "3           29132  \n",
       "4           28231  \n",
       "5           25720  "
      ]
     },
     "execution_count": 113,
     "metadata": {},
     "output_type": "execute_result"
    }
   ],
   "source": [
    "# Create a new row that sums the trips from the top 5 commuter trips\n",
    "new_row = pd.DataFrame(\n",
    "    {'start_station_id':' ',\n",
    "     'start_station_name':'Top 5 Commuter Trips', \n",
    "     'commuter_trips':sum(df_commuter_trips['commuter_trips'])},\n",
    "     index =[0])\n",
    "\n",
    "# Add the row to the df_commuter_trips dataframe\n",
    "df_commuter_trips = pd.concat([new_row, df_commuter_trips]).reset_index(drop = True)\n",
    "\n",
    "# Display the top 5 commuter trips dataframe\n",
    "df_commuter_trips"
   ]
  },
  {
   "cell_type": "markdown",
   "metadata": {},
   "source": [
    "Given the criteria of a commuter trip, the top 5 trips are those presented in the above data frame.  These trips:\n",
    "* start at San Francisco Caltrain, Transbay Terminal, and/or Ferry Building\n",
    "* occurs for less than 30 minutes\n",
    "* and in the morning/evening between 7-10am and 4-7pm\n",
    "       \n",
    "The top 5 commuter trips also account for 18% of the all trips.  Additionally, the data so far suggest we are doing a good job attracting ridership during commuting hours."
   ]
  },
  {
   "cell_type": "markdown",
   "metadata": {},
   "source": [
    "### 6. Recommendations for New Membership\n",
    "\n",
    "To understand where we lack in membership we will look at four questions:\n",
    "* Are there still options in coverting customers to subscribers during the commuting hours?\n",
    "* Which stations have the least amount of start trips in San Francisco?\n",
    "* How is the ratio of subscribers and customers changing throughout the year?\n",
    "* How long are customers riding?"
   ]
  },
  {
   "cell_type": "markdown",
   "metadata": {},
   "source": [
    "#### 6a. Are there still options in converting more customers to subscribers during commute days and hours?\n",
    "\n",
    "The query below uses the bikeshare_trips dataset and produces a dataframe containing the number of subscribers and customers during commute hours.  The script filters the dataset to weekday and peak working hours and then uses the if/else statement to sum up the number of subscribers and customers for each station."
   ]
  },
  {
   "cell_type": "code",
   "execution_count": 115,
   "metadata": {},
   "outputs": [],
   "source": [
    "%%bigquery df_commuting_subscriber\n",
    "\n",
    "SELECT \n",
    "  start_station_name, \n",
    "  count(*) as Total_Trips,\n",
    "  sum(case when subscriber_type = 'Subscriber' then 1 else 0 end) as Subscriber,\n",
    "  sum(case when subscriber_type = 'Customer' then 1 else 0 end) as Customer\n",
    "FROM `bigquery-public-data.san_francisco.bikeshare_trips`\n",
    "WHERE \n",
    "    extract(hour from start_date) in (7, 8, 9, 16, 17, 18) and\n",
    "    extract(dayofweek from start_date) in (2, 3, 4, 5, 6)\n",
    "GROUP BY start_station_name \n",
    "ORDER BY Total_Trips DESC LIMIT 10\n",
    ";"
   ]
  },
  {
   "cell_type": "markdown",
   "metadata": {},
   "source": [
    "The dataframe is edited to calculate the percentage of subscribers out of the total trips"
   ]
  },
  {
   "cell_type": "code",
   "execution_count": 153,
   "metadata": {},
   "outputs": [
    {
     "data": {
      "text/html": [
       "<div>\n",
       "<style scoped>\n",
       "    .dataframe tbody tr th:only-of-type {\n",
       "        vertical-align: middle;\n",
       "    }\n",
       "\n",
       "    .dataframe tbody tr th {\n",
       "        vertical-align: top;\n",
       "    }\n",
       "\n",
       "    .dataframe thead th {\n",
       "        text-align: right;\n",
       "    }\n",
       "</style>\n",
       "<table border=\"1\" class=\"dataframe\">\n",
       "  <thead>\n",
       "    <tr style=\"text-align: right;\">\n",
       "      <th></th>\n",
       "      <th>start_station_name</th>\n",
       "      <th>Total_Trips</th>\n",
       "      <th>Subscriber</th>\n",
       "      <th>Customer</th>\n",
       "      <th>Percent_Subscriber</th>\n",
       "    </tr>\n",
       "  </thead>\n",
       "  <tbody>\n",
       "    <tr>\n",
       "      <th>0</th>\n",
       "      <td>San Francisco Caltrain (Townsend at 4th)</td>\n",
       "      <td>52441</td>\n",
       "      <td>50832</td>\n",
       "      <td>1609</td>\n",
       "      <td>96.93</td>\n",
       "    </tr>\n",
       "    <tr>\n",
       "      <th>1</th>\n",
       "      <td>San Francisco Caltrain 2 (330 Townsend)</td>\n",
       "      <td>40264</td>\n",
       "      <td>39319</td>\n",
       "      <td>945</td>\n",
       "      <td>97.65</td>\n",
       "    </tr>\n",
       "    <tr>\n",
       "      <th>2</th>\n",
       "      <td>Temporary Transbay Terminal (Howard at Beale)</td>\n",
       "      <td>28880</td>\n",
       "      <td>28448</td>\n",
       "      <td>432</td>\n",
       "      <td>98.50</td>\n",
       "    </tr>\n",
       "    <tr>\n",
       "      <th>3</th>\n",
       "      <td>Harry Bridges Plaza (Ferry Building)</td>\n",
       "      <td>27298</td>\n",
       "      <td>25002</td>\n",
       "      <td>2296</td>\n",
       "      <td>91.59</td>\n",
       "    </tr>\n",
       "    <tr>\n",
       "      <th>4</th>\n",
       "      <td>Steuart at Market</td>\n",
       "      <td>25313</td>\n",
       "      <td>24173</td>\n",
       "      <td>1140</td>\n",
       "      <td>95.50</td>\n",
       "    </tr>\n",
       "    <tr>\n",
       "      <th>5</th>\n",
       "      <td>2nd at Townsend</td>\n",
       "      <td>24103</td>\n",
       "      <td>23183</td>\n",
       "      <td>920</td>\n",
       "      <td>96.18</td>\n",
       "    </tr>\n",
       "    <tr>\n",
       "      <th>6</th>\n",
       "      <td>Townsend at 7th</td>\n",
       "      <td>20323</td>\n",
       "      <td>19669</td>\n",
       "      <td>654</td>\n",
       "      <td>96.78</td>\n",
       "    </tr>\n",
       "    <tr>\n",
       "      <th>7</th>\n",
       "      <td>Market at Sansome</td>\n",
       "      <td>18880</td>\n",
       "      <td>18037</td>\n",
       "      <td>843</td>\n",
       "      <td>95.53</td>\n",
       "    </tr>\n",
       "    <tr>\n",
       "      <th>8</th>\n",
       "      <td>Embarcadero at Sansome</td>\n",
       "      <td>18587</td>\n",
       "      <td>15782</td>\n",
       "      <td>2805</td>\n",
       "      <td>84.91</td>\n",
       "    </tr>\n",
       "    <tr>\n",
       "      <th>9</th>\n",
       "      <td>Market at 10th</td>\n",
       "      <td>17273</td>\n",
       "      <td>16457</td>\n",
       "      <td>816</td>\n",
       "      <td>95.28</td>\n",
       "    </tr>\n",
       "  </tbody>\n",
       "</table>\n",
       "</div>"
      ],
      "text/plain": [
       "                              start_station_name  Total_Trips  Subscriber  \\\n",
       "0       San Francisco Caltrain (Townsend at 4th)        52441       50832   \n",
       "1        San Francisco Caltrain 2 (330 Townsend)        40264       39319   \n",
       "2  Temporary Transbay Terminal (Howard at Beale)        28880       28448   \n",
       "3           Harry Bridges Plaza (Ferry Building)        27298       25002   \n",
       "4                              Steuart at Market        25313       24173   \n",
       "5                                2nd at Townsend        24103       23183   \n",
       "6                                Townsend at 7th        20323       19669   \n",
       "7                              Market at Sansome        18880       18037   \n",
       "8                         Embarcadero at Sansome        18587       15782   \n",
       "9                                 Market at 10th        17273       16457   \n",
       "\n",
       "   Customer  Percent_Subscriber  \n",
       "0      1609               96.93  \n",
       "1       945               97.65  \n",
       "2       432               98.50  \n",
       "3      2296               91.59  \n",
       "4      1140               95.50  \n",
       "5       920               96.18  \n",
       "6       654               96.78  \n",
       "7       843               95.53  \n",
       "8      2805               84.91  \n",
       "9       816               95.28  "
      ]
     },
     "execution_count": 153,
     "metadata": {},
     "output_type": "execute_result"
    }
   ],
   "source": [
    "# Adding new column\n",
    "df_commuting_subscriber[\"Percent_Subscriber\"] = round(df_commuting_subscriber[\"Subscriber\"]/df_commuting_subscriber[\"Total_Trips\"] * 100, 2)\n",
    "\n",
    "# Display the dataframe\n",
    "df_commuting_subscriber"
   ]
  },
  {
   "cell_type": "markdown",
   "metadata": {},
   "source": [
    "For the most part, our most popular stations have >95% subscriber membership.  However, we can focus some efforts to improve membership at the Ferry Building and the Embarcadero at Sansome which have only about 90% subscriber membership.  \n",
    "\n",
    "Both locations are hubs for transportation: one for the ferry and the other for Muni.  One recommendation is to include a membership that incentives ferry and Muni riders, such as an initially discounted rate."
   ]
  },
  {
   "cell_type": "markdown",
   "metadata": {},
   "source": [
    "#### 6b. Which stations have the least amount of start trips in San Francisco?\n",
    "\n",
    "The following query uses both the bikeshare_trips and bikeshare_stations dataset to produce a dataframe containing the 10 least used start stations.  The script joins both datasets using start_station_id and station_id and filters the landmarks to San Francisco only.  "
   ]
  },
  {
   "cell_type": "code",
   "execution_count": 117,
   "metadata": {},
   "outputs": [],
   "source": [
    "%%bigquery df_least\n",
    "\n",
    "SELECT\n",
    "    start_station_id,\n",
    "    landmark,\n",
    "    start_station_name,\n",
    "    count(trip_id) as trips_started,\n",
    "FROM `bigquery-public-data.san_francisco.bikeshare_trips`\n",
    "INNER JOIN `bigquery-public-data.san_francisco.bikeshare_stations`\n",
    "ON start_station_id = station_id\n",
    "WHERE landmark = 'San Francisco'\n",
    "GROUP BY start_station_id, start_station_name, landmark\n",
    "ORDER BY trips_started ASC LIMIT 10\n",
    ";"
   ]
  },
  {
   "cell_type": "markdown",
   "metadata": {},
   "source": [
    "The dataframe is edited to include a summation row"
   ]
  },
  {
   "cell_type": "code",
   "execution_count": 118,
   "metadata": {},
   "outputs": [
    {
     "data": {
      "text/html": [
       "<div>\n",
       "<style scoped>\n",
       "    .dataframe tbody tr th:only-of-type {\n",
       "        vertical-align: middle;\n",
       "    }\n",
       "\n",
       "    .dataframe tbody tr th {\n",
       "        vertical-align: top;\n",
       "    }\n",
       "\n",
       "    .dataframe thead th {\n",
       "        text-align: right;\n",
       "    }\n",
       "</style>\n",
       "<table border=\"1\" class=\"dataframe\">\n",
       "  <thead>\n",
       "    <tr style=\"text-align: right;\">\n",
       "      <th></th>\n",
       "      <th>start_station_id</th>\n",
       "      <th>landmark</th>\n",
       "      <th>start_station_name</th>\n",
       "      <th>trips_started</th>\n",
       "    </tr>\n",
       "  </thead>\n",
       "  <tbody>\n",
       "    <tr>\n",
       "      <th>0</th>\n",
       "      <td></td>\n",
       "      <td></td>\n",
       "      <td>Top 10 Least Started Stations</td>\n",
       "      <td>69104</td>\n",
       "    </tr>\n",
       "    <tr>\n",
       "      <th>1</th>\n",
       "      <td>91</td>\n",
       "      <td>San Francisco</td>\n",
       "      <td>Cyril Magnin St at Ellis St</td>\n",
       "      <td>69</td>\n",
       "    </tr>\n",
       "    <tr>\n",
       "      <th>2</th>\n",
       "      <td>90</td>\n",
       "      <td>San Francisco</td>\n",
       "      <td>5th St at Folsom St</td>\n",
       "      <td>173</td>\n",
       "    </tr>\n",
       "    <tr>\n",
       "      <th>3</th>\n",
       "      <td>46</td>\n",
       "      <td>San Francisco</td>\n",
       "      <td>Washington at Kearney</td>\n",
       "      <td>1472</td>\n",
       "    </tr>\n",
       "    <tr>\n",
       "      <th>4</th>\n",
       "      <td>47</td>\n",
       "      <td>San Francisco</td>\n",
       "      <td>Post at Kearney</td>\n",
       "      <td>2503</td>\n",
       "    </tr>\n",
       "    <tr>\n",
       "      <th>5</th>\n",
       "      <td>58</td>\n",
       "      <td>San Francisco</td>\n",
       "      <td>San Francisco City Hall</td>\n",
       "      <td>6730</td>\n",
       "    </tr>\n",
       "    <tr>\n",
       "      <th>6</th>\n",
       "      <td>46</td>\n",
       "      <td>San Francisco</td>\n",
       "      <td>Washington at Kearny</td>\n",
       "      <td>7136</td>\n",
       "    </tr>\n",
       "    <tr>\n",
       "      <th>7</th>\n",
       "      <td>59</td>\n",
       "      <td>San Francisco</td>\n",
       "      <td>Golden Gate at Polk</td>\n",
       "      <td>10651</td>\n",
       "    </tr>\n",
       "    <tr>\n",
       "      <th>8</th>\n",
       "      <td>47</td>\n",
       "      <td>San Francisco</td>\n",
       "      <td>Post at Kearny</td>\n",
       "      <td>11308</td>\n",
       "    </tr>\n",
       "    <tr>\n",
       "      <th>9</th>\n",
       "      <td>41</td>\n",
       "      <td>San Francisco</td>\n",
       "      <td>Clay at Battery</td>\n",
       "      <td>14351</td>\n",
       "    </tr>\n",
       "    <tr>\n",
       "      <th>10</th>\n",
       "      <td>68</td>\n",
       "      <td>San Francisco</td>\n",
       "      <td>Yerba Buena Center of the Arts (3rd @ Howard)</td>\n",
       "      <td>14711</td>\n",
       "    </tr>\n",
       "  </tbody>\n",
       "</table>\n",
       "</div>"
      ],
      "text/plain": [
       "   start_station_id       landmark  \\\n",
       "0                                    \n",
       "1                91  San Francisco   \n",
       "2                90  San Francisco   \n",
       "3                46  San Francisco   \n",
       "4                47  San Francisco   \n",
       "5                58  San Francisco   \n",
       "6                46  San Francisco   \n",
       "7                59  San Francisco   \n",
       "8                47  San Francisco   \n",
       "9                41  San Francisco   \n",
       "10               68  San Francisco   \n",
       "\n",
       "                               start_station_name  trips_started  \n",
       "0                   Top 10 Least Started Stations          69104  \n",
       "1                     Cyril Magnin St at Ellis St             69  \n",
       "2                             5th St at Folsom St            173  \n",
       "3                           Washington at Kearney           1472  \n",
       "4                                 Post at Kearney           2503  \n",
       "5                         San Francisco City Hall           6730  \n",
       "6                            Washington at Kearny           7136  \n",
       "7                             Golden Gate at Polk          10651  \n",
       "8                                  Post at Kearny          11308  \n",
       "9                                 Clay at Battery          14351  \n",
       "10  Yerba Buena Center of the Arts (3rd @ Howard)          14711  "
      ]
     },
     "execution_count": 118,
     "metadata": {},
     "output_type": "execute_result"
    }
   ],
   "source": [
    "# Create a new row to sum the total number of trips in the least 10\n",
    "new_row = pd.DataFrame(\n",
    "    {'start_station_id':' ',\n",
    "     'landmark':'',\n",
    "     'start_station_name':'Top 10 Least Started Stations', \n",
    "     'trips_started':sum(df_least['trips_started'])},\n",
    "     index =[0])\n",
    "\n",
    "# Add the row to the dataframe\n",
    "df_least = pd.concat([new_row, df_least]).reset_index(drop = True)\n",
    "\n",
    "# Display the dataframe\n",
    "df_least"
   ]
  },
  {
   "cell_type": "markdown",
   "metadata": {},
   "source": [
    "San Francisco had a total of 891,223 trips and the above 10 trips account for <10% of the total.  These areas are in the Tenderloin and between Union Square and Chinatown.  These three neighborhoods are very unique to San Francisco especially for the food and culture.  Additionally, transportation by car is often difficult in these neighborhoods due to traffic congestion and limited parking but make it a good opportunity for bikes.  \n",
    "\n",
    "One opportunity to increase membership in these neighborhoods is to offer a \"ride+eat\" membership where riders can get deals with local restaurants and stores.  Another opportunity is to create a partnership with food delivery companies like Grubhub to efficiently deliver food in these congested areas."
   ]
  },
  {
   "cell_type": "markdown",
   "metadata": {},
   "source": [
    "#### 6c.  How is the ratio of subscribers and customers changing throughout the year?\n",
    "\n",
    "From 6a, we saw that the majority of the popular stations were subscribers.  However, lets also look at how the number of customers change throughout the year.\n",
    "\n",
    "The following query uses the bikeshare_trips dataset and returns a dataframe containing the number of customers each month.  With the if/else statement (case) the number of customers are summed up for each month."
   ]
  },
  {
   "cell_type": "code",
   "execution_count": 134,
   "metadata": {},
   "outputs": [],
   "source": [
    "%%bigquery df_month_winter\n",
    "\n",
    "SELECT \n",
    "    EXTRACT(month from start_date) as months,\n",
    "    COUNT(trip_id) as trips_started,\n",
    "    ROUND(COUNT(trip_id) / 983648 *100, 2) as percent_of_total_rides,\n",
    "    sum(case when subscriber_type = 'Subscriber' then 1 else 0 end) as Subscriber,\n",
    "    sum(case when subscriber_type = 'Customer' then 1 else 0 end) as Customer\n",
    "FROM `bigquery-public-data.san_francisco.bikeshare_trips`\n",
    "GROUP BY months\n",
    "ORDER BY percent_of_total_rides DESC;"
   ]
  },
  {
   "cell_type": "markdown",
   "metadata": {},
   "source": [
    "The dataframe is edited to calculate the proportion of customers"
   ]
  },
  {
   "cell_type": "code",
   "execution_count": 154,
   "metadata": {},
   "outputs": [
    {
     "data": {
      "text/html": [
       "<div>\n",
       "<style scoped>\n",
       "    .dataframe tbody tr th:only-of-type {\n",
       "        vertical-align: middle;\n",
       "    }\n",
       "\n",
       "    .dataframe tbody tr th {\n",
       "        vertical-align: top;\n",
       "    }\n",
       "\n",
       "    .dataframe thead th {\n",
       "        text-align: right;\n",
       "    }\n",
       "</style>\n",
       "<table border=\"1\" class=\"dataframe\">\n",
       "  <thead>\n",
       "    <tr style=\"text-align: right;\">\n",
       "      <th></th>\n",
       "      <th>months</th>\n",
       "      <th>trips_started</th>\n",
       "      <th>percent_of_total_rides</th>\n",
       "      <th>Subscriber</th>\n",
       "      <th>Customer</th>\n",
       "      <th>%_customer</th>\n",
       "    </tr>\n",
       "  </thead>\n",
       "  <tbody>\n",
       "    <tr>\n",
       "      <th>0</th>\n",
       "      <td>8</td>\n",
       "      <td>95576</td>\n",
       "      <td>9.72</td>\n",
       "      <td>80033</td>\n",
       "      <td>15543</td>\n",
       "      <td>16.26</td>\n",
       "    </tr>\n",
       "    <tr>\n",
       "      <th>1</th>\n",
       "      <td>10</td>\n",
       "      <td>94378</td>\n",
       "      <td>9.59</td>\n",
       "      <td>80340</td>\n",
       "      <td>14038</td>\n",
       "      <td>14.87</td>\n",
       "    </tr>\n",
       "    <tr>\n",
       "      <th>2</th>\n",
       "      <td>6</td>\n",
       "      <td>91672</td>\n",
       "      <td>9.32</td>\n",
       "      <td>79525</td>\n",
       "      <td>12147</td>\n",
       "      <td>13.25</td>\n",
       "    </tr>\n",
       "    <tr>\n",
       "      <th>3</th>\n",
       "      <td>7</td>\n",
       "      <td>89539</td>\n",
       "      <td>9.10</td>\n",
       "      <td>76387</td>\n",
       "      <td>13152</td>\n",
       "      <td>14.69</td>\n",
       "    </tr>\n",
       "    <tr>\n",
       "      <th>4</th>\n",
       "      <td>9</td>\n",
       "      <td>87321</td>\n",
       "      <td>8.88</td>\n",
       "      <td>70011</td>\n",
       "      <td>17310</td>\n",
       "      <td>19.82</td>\n",
       "    </tr>\n",
       "    <tr>\n",
       "      <th>5</th>\n",
       "      <td>5</td>\n",
       "      <td>86364</td>\n",
       "      <td>8.78</td>\n",
       "      <td>73623</td>\n",
       "      <td>12741</td>\n",
       "      <td>14.75</td>\n",
       "    </tr>\n",
       "    <tr>\n",
       "      <th>6</th>\n",
       "      <td>4</td>\n",
       "      <td>84196</td>\n",
       "      <td>8.56</td>\n",
       "      <td>74218</td>\n",
       "      <td>9978</td>\n",
       "      <td>11.85</td>\n",
       "    </tr>\n",
       "    <tr>\n",
       "      <th>7</th>\n",
       "      <td>3</td>\n",
       "      <td>81777</td>\n",
       "      <td>8.31</td>\n",
       "      <td>71619</td>\n",
       "      <td>10158</td>\n",
       "      <td>12.42</td>\n",
       "    </tr>\n",
       "    <tr>\n",
       "      <th>8</th>\n",
       "      <td>11</td>\n",
       "      <td>73091</td>\n",
       "      <td>7.43</td>\n",
       "      <td>63720</td>\n",
       "      <td>9371</td>\n",
       "      <td>12.82</td>\n",
       "    </tr>\n",
       "    <tr>\n",
       "      <th>9</th>\n",
       "      <td>1</td>\n",
       "      <td>71788</td>\n",
       "      <td>7.30</td>\n",
       "      <td>64075</td>\n",
       "      <td>7713</td>\n",
       "      <td>10.74</td>\n",
       "    </tr>\n",
       "    <tr>\n",
       "      <th>10</th>\n",
       "      <td>2</td>\n",
       "      <td>69985</td>\n",
       "      <td>7.11</td>\n",
       "      <td>62123</td>\n",
       "      <td>7862</td>\n",
       "      <td>11.23</td>\n",
       "    </tr>\n",
       "    <tr>\n",
       "      <th>11</th>\n",
       "      <td>12</td>\n",
       "      <td>57961</td>\n",
       "      <td>5.89</td>\n",
       "      <td>51165</td>\n",
       "      <td>6796</td>\n",
       "      <td>11.73</td>\n",
       "    </tr>\n",
       "  </tbody>\n",
       "</table>\n",
       "</div>"
      ],
      "text/plain": [
       "    months  trips_started  percent_of_total_rides  Subscriber  Customer  \\\n",
       "0        8          95576                    9.72       80033     15543   \n",
       "1       10          94378                    9.59       80340     14038   \n",
       "2        6          91672                    9.32       79525     12147   \n",
       "3        7          89539                    9.10       76387     13152   \n",
       "4        9          87321                    8.88       70011     17310   \n",
       "5        5          86364                    8.78       73623     12741   \n",
       "6        4          84196                    8.56       74218      9978   \n",
       "7        3          81777                    8.31       71619     10158   \n",
       "8       11          73091                    7.43       63720      9371   \n",
       "9        1          71788                    7.30       64075      7713   \n",
       "10       2          69985                    7.11       62123      7862   \n",
       "11      12          57961                    5.89       51165      6796   \n",
       "\n",
       "    %_customer  \n",
       "0        16.26  \n",
       "1        14.87  \n",
       "2        13.25  \n",
       "3        14.69  \n",
       "4        19.82  \n",
       "5        14.75  \n",
       "6        11.85  \n",
       "7        12.42  \n",
       "8        12.82  \n",
       "9        10.74  \n",
       "10       11.23  \n",
       "11       11.73  "
      ]
     },
     "execution_count": 154,
     "metadata": {},
     "output_type": "execute_result"
    }
   ],
   "source": [
    "# Add additional row\n",
    "df_month_winter['%_customer'] = round(df_month_winter['Customer']/df_month_winter['trips_started'] * 100, 2)\n",
    "\n",
    "# Display the dataframe\n",
    "df_month_winter"
   ]
  },
  {
   "cell_type": "code",
   "execution_count": 141,
   "metadata": {},
   "outputs": [
    {
     "data": {
      "text/plain": [
       "[Text(0, 0.5, '% of Customers out of Total'),\n",
       " Text(0.5, 0, 'Months'),\n",
       " Text(0.5, 1.0, 'Ratio of Customers vs Months')]"
      ]
     },
     "execution_count": 141,
     "metadata": {},
     "output_type": "execute_result"
    },
    {
     "data": {
      "image/png": "[encoded data removed]",
      "text/plain": [
       "<Figure size 1080x720 with 1 Axes>"
      ]
     },
     "metadata": {
      "needs_background": "light"
     },
     "output_type": "display_data"
    }
   ],
   "source": [
    "# Initialize the matplotlib figure\n",
    "fig, ax = plt.subplots(figsize=(15, 10))\n",
    "\n",
    "# Plot the barplots for monthly, daily, and hourly datasets\n",
    "ax1 = sns.barplot(x=\"months\", y=\"%_customer\", data=df_month_winter)\n",
    "\n",
    "# Label the axis and titles\n",
    "ax.set(\n",
    "    xlabel='Months',\n",
    "    ylabel='% of Customers out of Total',\n",
    "    title='Ratio of Customers vs Months')"
   ]
  },
  {
   "cell_type": "markdown",
   "metadata": {},
   "source": [
    "From the graphic, the % of customer actually reaches a peak in September.  A potential reason maybe these customers are students that move into the bayarea before school starts.  If this is the case, offering student memberships during this time may convert these one-time users into members."
   ]
  },
  {
   "cell_type": "markdown",
   "metadata": {},
   "source": [
    "#### 6d. How long are customers riding?"
   ]
  },
  {
   "cell_type": "markdown",
   "metadata": {},
   "source": [
    "The query below uses the bikeshare_trips dataset and outputs a dataframe containing the the average riding time for customers starting from several stations.  The AVG function is used to compute the average riding time in minutes and case is used to sum up the number of customers for those rides."
   ]
  },
  {
   "cell_type": "code",
   "execution_count": 150,
   "metadata": {},
   "outputs": [],
   "source": [
    "%%bigquery df_stations_customers\n",
    "\n",
    "SELECT\n",
    "    start_station_name,\n",
    "    count(trip_id) as trips_started,\n",
    "    ROUND(AVG(duration_sec/60),2) as average_trip_length_minutes,\n",
    "    sum(case when subscriber_type = 'Customer' then 1 else 0 end) as Customer\n",
    "FROM `bigquery-public-data.san_francisco.bikeshare_trips`\n",
    "GROUP BY start_station_name\n",
    "ORDER BY Customer DESC LIMIT 10\n",
    ";"
   ]
  },
  {
   "cell_type": "markdown",
   "metadata": {},
   "source": [
    "Display the dataframe"
   ]
  },
  {
   "cell_type": "code",
   "execution_count": 151,
   "metadata": {},
   "outputs": [
    {
     "data": {
      "text/html": [
       "<div>\n",
       "<style scoped>\n",
       "    .dataframe tbody tr th:only-of-type {\n",
       "        vertical-align: middle;\n",
       "    }\n",
       "\n",
       "    .dataframe tbody tr th {\n",
       "        vertical-align: top;\n",
       "    }\n",
       "\n",
       "    .dataframe thead th {\n",
       "        text-align: right;\n",
       "    }\n",
       "</style>\n",
       "<table border=\"1\" class=\"dataframe\">\n",
       "  <thead>\n",
       "    <tr style=\"text-align: right;\">\n",
       "      <th></th>\n",
       "      <th>start_station_name</th>\n",
       "      <th>trips_started</th>\n",
       "      <th>average_trip_length_minutes</th>\n",
       "      <th>Customer</th>\n",
       "    </tr>\n",
       "  </thead>\n",
       "  <tbody>\n",
       "    <tr>\n",
       "      <th>0</th>\n",
       "      <td>Embarcadero at Sansome</td>\n",
       "      <td>41137</td>\n",
       "      <td>22.13</td>\n",
       "      <td>13934</td>\n",
       "    </tr>\n",
       "    <tr>\n",
       "      <th>1</th>\n",
       "      <td>Harry Bridges Plaza (Ferry Building)</td>\n",
       "      <td>49062</td>\n",
       "      <td>22.74</td>\n",
       "      <td>12441</td>\n",
       "    </tr>\n",
       "    <tr>\n",
       "      <th>2</th>\n",
       "      <td>Market at 4th</td>\n",
       "      <td>27502</td>\n",
       "      <td>20.65</td>\n",
       "      <td>5952</td>\n",
       "    </tr>\n",
       "    <tr>\n",
       "      <th>3</th>\n",
       "      <td>Powell Street BART</td>\n",
       "      <td>25204</td>\n",
       "      <td>22.02</td>\n",
       "      <td>5214</td>\n",
       "    </tr>\n",
       "    <tr>\n",
       "      <th>4</th>\n",
       "      <td>Embarcadero at Vallejo</td>\n",
       "      <td>15302</td>\n",
       "      <td>24.86</td>\n",
       "      <td>4945</td>\n",
       "    </tr>\n",
       "    <tr>\n",
       "      <th>5</th>\n",
       "      <td>Powell at Post (Union Square)</td>\n",
       "      <td>16984</td>\n",
       "      <td>25.11</td>\n",
       "      <td>4932</td>\n",
       "    </tr>\n",
       "    <tr>\n",
       "      <th>6</th>\n",
       "      <td>Steuart at Market</td>\n",
       "      <td>38531</td>\n",
       "      <td>14.35</td>\n",
       "      <td>4469</td>\n",
       "    </tr>\n",
       "    <tr>\n",
       "      <th>7</th>\n",
       "      <td>2nd at Townsend</td>\n",
       "      <td>39936</td>\n",
       "      <td>12.48</td>\n",
       "      <td>4436</td>\n",
       "    </tr>\n",
       "    <tr>\n",
       "      <th>8</th>\n",
       "      <td>San Francisco Caltrain (Townsend at 4th)</td>\n",
       "      <td>72683</td>\n",
       "      <td>13.41</td>\n",
       "      <td>4299</td>\n",
       "    </tr>\n",
       "    <tr>\n",
       "      <th>9</th>\n",
       "      <td>Market at Sansome</td>\n",
       "      <td>35142</td>\n",
       "      <td>14.30</td>\n",
       "      <td>3874</td>\n",
       "    </tr>\n",
       "  </tbody>\n",
       "</table>\n",
       "</div>"
      ],
      "text/plain": [
       "                         start_station_name  trips_started  \\\n",
       "0                    Embarcadero at Sansome          41137   \n",
       "1      Harry Bridges Plaza (Ferry Building)          49062   \n",
       "2                             Market at 4th          27502   \n",
       "3                        Powell Street BART          25204   \n",
       "4                    Embarcadero at Vallejo          15302   \n",
       "5             Powell at Post (Union Square)          16984   \n",
       "6                         Steuart at Market          38531   \n",
       "7                           2nd at Townsend          39936   \n",
       "8  San Francisco Caltrain (Townsend at 4th)          72683   \n",
       "9                         Market at Sansome          35142   \n",
       "\n",
       "   average_trip_length_minutes  Customer  \n",
       "0                        22.13     13934  \n",
       "1                        22.74     12441  \n",
       "2                        20.65      5952  \n",
       "3                        22.02      5214  \n",
       "4                        24.86      4945  \n",
       "5                        25.11      4932  \n",
       "6                        14.35      4469  \n",
       "7                        12.48      4436  \n",
       "8                        13.41      4299  \n",
       "9                        14.30      3874  "
      ]
     },
     "execution_count": 151,
     "metadata": {},
     "output_type": "execute_result"
    }
   ],
   "source": [
    "df_stations_customers"
   ]
  },
  {
   "cell_type": "markdown",
   "metadata": {},
   "source": [
    "The top 10 popular stations for customers are in San Francisco and they take rides that are less than 25 minutes long.  The pricing for a one-time user is currently $2 for 30 minutes.  When these customers sign up for these rides in the app, they should also be offered a discounted monthly membership.  The competitive pricing may entice the customers to sign up for a monthly membership for just a few dollars more."
   ]
  },
  {
   "cell_type": "markdown",
   "metadata": {},
   "source": [
    "#### 6e. Gathering the results from 6a to 6d, the recommendations to increase membership are:\n",
    "* Create memberships to incentivize ferry and Muni commuters to use our bikeshare bikes for their second mode of transportation\n",
    "* Create 'ride+eat' membership for riders to get deals at local shops and to create partnerships with food delivery companies\n",
    "* Create 'student' membership for students who arrive to the bayarea during the fall\n",
    "* Create ads to entice one-time users to sign up for monthly membership because of a competitive price."
   ]
  },
  {
   "cell_type": "markdown",
   "metadata": {},
   "source": [
    "### 7. Conclusion\n",
    "\n",
    "In conclusion, the bikeshare datasets show we are doing a very good job getting commuters to join the bikeshare membership.  However there are still opportunities for other types of audiences such as multiple transportation commuters, foodies, students, and other one-time users."
   ]
  },
  {
   "cell_type": "code",
   "execution_count": null,
   "metadata": {},
   "outputs": [],
   "source": []
  }
 ],
 "metadata": {
  "environment": {
   "name": "tf2-gpu.2-1.m46",
   "type": "gcloud",
   "uri": "gcr.io/deeplearning-platform-release/tf2-gpu.2-1:m46"
  },
  "kernelspec": {
   "display_name": "Python 3",
   "language": "python",
   "name": "python3"
  },
  "language_info": {
   "codemirror_mode": {
    "name": "ipython",
    "version": 3
   },
   "file_extension": ".py",
   "mimetype": "text/x-python",
   "name": "python",
   "nbconvert_exporter": "python",
   "pygments_lexer": "ipython3",
   "version": "3.7.6"
  }
 },
 "nbformat": 4,
 "nbformat_minor": 4
}
